{
 "cells": [
  {
   "cell_type": "code",
   "execution_count": 55,
   "id": "e10b378d-653b-46f4-ae61-d7edefb67c28",
   "metadata": {},
   "outputs": [],
   "source": [
    "import requests\n",
    "import re\n",
    "import numpy as np\n",
    "import pandas as pd\n",
    "from bs4 import BeautifulSoup"
   ]
  },
  {
   "cell_type": "code",
   "execution_count": 56,
   "id": "83eb0281-7706-4192-bed1-9b249e01afcb",
   "metadata": {},
   "outputs": [],
   "source": [
    "url=\"https://traveltriangle.com/family-packages/page/1\""
   ]
  },
  {
   "cell_type": "code",
   "execution_count": 57,
   "id": "48987766-ea2c-4dd3-bd6c-db70c95ec3de",
   "metadata": {},
   "outputs": [],
   "source": [
    "response=requests.get(url)"
   ]
  },
  {
   "cell_type": "code",
   "execution_count": 58,
   "id": "3e137182-2134-4aab-a27f-0c7aa44e890f",
   "metadata": {},
   "outputs": [
    {
     "data": {
      "text/plain": [
       "<Response [200]>"
      ]
     },
     "execution_count": 58,
     "metadata": {},
     "output_type": "execute_result"
    }
   ],
   "source": [
    "response"
   ]
  },
  {
   "cell_type": "code",
   "execution_count": 59,
   "id": "e571dbae-7357-4572-9b1a-0566512a004b",
   "metadata": {},
   "outputs": [],
   "source": [
    "soup = BeautifulSoup(response.text)"
   ]
  },
  {
   "cell_type": "code",
   "execution_count": 60,
   "id": "ae9059e3-4663-4ab7-9055-0a7a45bbae44",
   "metadata": {},
   "outputs": [
    {
     "name": "stderr",
     "output_type": "stream",
     "text": [
      "<>:13: SyntaxWarning: invalid escape sequence '\\d'\n",
      "<>:14: SyntaxWarning: invalid escape sequence '\\d'\n",
      "<>:19: SyntaxWarning: invalid escape sequence '\\s'\n",
      "<>:20: SyntaxWarning: invalid escape sequence '\\s'\n",
      "<>:13: SyntaxWarning: invalid escape sequence '\\d'\n",
      "<>:14: SyntaxWarning: invalid escape sequence '\\d'\n",
      "<>:19: SyntaxWarning: invalid escape sequence '\\s'\n",
      "<>:20: SyntaxWarning: invalid escape sequence '\\s'\n",
      "C:\\Users\\lenovo\\AppData\\Local\\Temp\\ipykernel_14584\\3584787633.py:13: SyntaxWarning: invalid escape sequence '\\d'\n",
      "  if re.findall(\"(\\d+\\,\\d+).*\",i.text):\n",
      "C:\\Users\\lenovo\\AppData\\Local\\Temp\\ipykernel_14584\\3584787633.py:14: SyntaxWarning: invalid escape sequence '\\d'\n",
      "  trip_price.append(\"\".join(re.findall(\"(\\d+\\,\\d+).*\",i.text)))\n",
      "C:\\Users\\lenovo\\AppData\\Local\\Temp\\ipykernel_14584\\3584787633.py:19: SyntaxWarning: invalid escape sequence '\\s'\n",
      "  if re.findall(\".*\\s(\\d+\\,\\d+)\",i.text):\n",
      "C:\\Users\\lenovo\\AppData\\Local\\Temp\\ipykernel_14584\\3584787633.py:20: SyntaxWarning: invalid escape sequence '\\s'\n",
      "  actual_price.append(\"\".join(re.findall(\".*\\s(\\d+\\,\\d+)\",i.text)))\n"
     ]
    }
   ],
   "source": [
    "trip_price=[]\n",
    "actual_price=[]\n",
    "city=[]\n",
    "duration=[]\n",
    "discount=[]\n",
    "hotel_ratings=[]\n",
    "visiting_places=[]\n",
    "for j in range(1,20):\n",
    "    url = f\"https://traveltriangle.com/family-packages/page/{j}\"\n",
    "    response  = requests.get(url)\n",
    "    soup = BeautifulSoup(response.text)\n",
    "    for i in soup.find_all(\"h4\",class_ = \"sfc3 m0 f24 fw9 priceVal at_newprice\"):\n",
    "        if re.findall(\"(\\d+\\,\\d+).*\",i.text):\n",
    "            trip_price.append(\"\".join(re.findall(\"(\\d+\\,\\d+).*\",i.text)))\n",
    "        else:\n",
    "            trip_price.append(np.nan)\n",
    "\n",
    "    for i in soup.find_all(\"h4\",class_ = \"sfc3 m0 f24 fw9 priceVal at_newprice\"):\n",
    "            if re.findall(\".*\\s(\\d+\\,\\d+)\",i.text):\n",
    "                actual_price.append(\"\".join(re.findall(\".*\\s(\\d+\\,\\d+)\",i.text)))\n",
    "            else:\n",
    "                actual_price.append(np.nan)\n",
    "\n",
    "    for i in soup.find_all(\"div\",class_ = \"clearfix row m0 mb5 flex\"):\n",
    "            if re.findall(\"(.*)Please\",i.text):\n",
    "                city.append(\"\".join(re.findall(\"(.*)Please\",i.text)))\n",
    "            else:\n",
    "                city.append(np.nan)\n",
    "\n",
    "    for i in soup.find_all(\"span\",class_ = \"iblock sfc6\"):\n",
    "            if re.findall(\"(.*)\",i.text):\n",
    "                duration.append(\"\".join(re.findall(\"(.*)\",i.text)))\n",
    "            else:\n",
    "                duration.append(np.nan)\n",
    "\n",
    "    for i in soup.find_all(\"span\",class_ = \"f12 fw4 pt2 pb2 pl8 pr8 radius20 pbc1 sfcw at_discount_label\"):\n",
    "            if re.findall(\".*\",i.text):\n",
    "                discount.append(\"\".join(re.findall(\".*\",i.text)))\n",
    "            else:\n",
    "                discount.append(np.nan)\n",
    "\n",
    "    for i in soup.find_all(\"div\",class_ = \"flex alignCenter\"):\n",
    "            if re.findall(\".*\",i.text):\n",
    "                hotel_ratings.append(\"\".join(re.findall(\".*\",i.text)))\n",
    "            else:\n",
    "                hotel_ratings.append(np.nan)\n",
    "\n",
    "    for i in soup.find_all(\"ul\",class_ = \"clearfix package-cities-list at_packagecity_list\"):\n",
    "            if re.findall(\".*\",i.text):\n",
    "                visiting_places.append(\"\".join(re.findall(\".*\",i.text)))\n",
    "            else:\n",
    "                visiting_places.append(np.nan)"
   ]
  },
  {
   "cell_type": "code",
   "execution_count": 61,
   "id": "bea14b3b-32d2-47de-9689-ad428e2df30e",
   "metadata": {},
   "outputs": [
    {
     "name": "stdout",
     "output_type": "stream",
     "text": [
      "471\n",
      "471\n",
      "471\n",
      "474\n",
      "475\n",
      "479\n",
      "475\n"
     ]
    }
   ],
   "source": [
    "print(len(city))\n",
    "print(len(actual_price))\n",
    "print(len(trip_price))\n",
    "print(len(discount))\n",
    "print(len(duration))\n",
    "print(len(hotel_ratings))\n",
    "print(len(visiting_places))"
   ]
  },
  {
   "cell_type": "code",
   "execution_count": 62,
   "id": "479aa51b-d66a-4e06-8c2b-58587cf7aa3a",
   "metadata": {},
   "outputs": [],
   "source": [
    "df1=pd.DataFrame({\"city\":city,\n",
    "              \"actual_price\":actual_price,\n",
    "              \"trip_price\":trip_price})"
   ]
  },
  {
   "cell_type": "code",
   "execution_count": 64,
   "id": "0654645d-7380-4d51-aa07-93a42be8ed03",
   "metadata": {},
   "outputs": [],
   "source": [
    "df=pd.DataFrame({\"duration\":duration,\n",
    "              \"visiting_places\":visiting_places})"
   ]
  },
  {
   "cell_type": "code",
   "execution_count": 66,
   "id": "e79f2fbf-9ff1-47e4-a0c4-58c78665d7b4",
   "metadata": {},
   "outputs": [],
   "source": [
    "df=df.drop([0,1,44,126])"
   ]
  },
  {
   "cell_type": "code",
   "execution_count": 68,
   "id": "827bcfaa-d766-4000-9ce4-a804ce97db9a",
   "metadata": {},
   "outputs": [],
   "source": [
    "df=df.reset_index(drop=True)"
   ]
  },
  {
   "cell_type": "code",
   "execution_count": 70,
   "id": "dc3f3a90-09cb-4791-abf8-38937248a00e",
   "metadata": {},
   "outputs": [],
   "source": [
    "discount_df=pd.DataFrame({\"discount\":discount})"
   ]
  },
  {
   "cell_type": "code",
   "execution_count": 72,
   "id": "29662187-19b1-41b7-b627-e06acf90f40f",
   "metadata": {},
   "outputs": [],
   "source": [
    "discount_df=discount_df.drop([0,1])\n",
    "discount_df=discount_df.reset_index(drop=True)"
   ]
  },
  {
   "cell_type": "code",
   "execution_count": 74,
   "id": "93fcf4b5-1c38-43d0-826b-118bc8f32e12",
   "metadata": {},
   "outputs": [],
   "source": [
    "hotel_ratings=pd.DataFrame({\"hotel_ratings\":hotel_ratings})"
   ]
  },
  {
   "cell_type": "code",
   "execution_count": 75,
   "id": "262dcf22-d8be-4fd2-b5ec-8b0fe0174fd1",
   "metadata": {},
   "outputs": [],
   "source": [
    "hotel_ratings=hotel_ratings.drop([0,1,2,3,4,5,6,7])\n",
    "hotel_ratings=hotel_ratings.reset_index(drop=True)"
   ]
  },
  {
   "cell_type": "code",
   "execution_count": 104,
   "id": "c0fa07ea-17e7-43c7-bd61-e32480e9c3d1",
   "metadata": {},
   "outputs": [],
   "source": [
    "data=pd.concat([df1,discount_df,df,hotel_ratings],axis=1)"
   ]
  },
  {
   "cell_type": "code",
   "execution_count": 106,
   "id": "760cdf3d-c13c-440e-8b22-aa19fea7bbfa",
   "metadata": {},
   "outputs": [
    {
     "data": {
      "text/html": [
       "<div>\n",
       "<style scoped>\n",
       "    .dataframe tbody tr th:only-of-type {\n",
       "        vertical-align: middle;\n",
       "    }\n",
       "\n",
       "    .dataframe tbody tr th {\n",
       "        vertical-align: top;\n",
       "    }\n",
       "\n",
       "    .dataframe thead th {\n",
       "        text-align: right;\n",
       "    }\n",
       "</style>\n",
       "<table border=\"1\" class=\"dataframe\">\n",
       "  <thead>\n",
       "    <tr style=\"text-align: right;\">\n",
       "      <th></th>\n",
       "      <th>city</th>\n",
       "      <th>actual_price</th>\n",
       "      <th>trip_price</th>\n",
       "      <th>discount</th>\n",
       "      <th>duration</th>\n",
       "      <th>visiting_places</th>\n",
       "      <th>hotel_ratings</th>\n",
       "    </tr>\n",
       "  </thead>\n",
       "  <tbody>\n",
       "    <tr>\n",
       "      <th>0</th>\n",
       "      <td>Bestselling Rishikesh Mussoorie Tour Package F...</td>\n",
       "      <td>12,545</td>\n",
       "      <td>11,549</td>\n",
       "      <td>8% Off</td>\n",
       "      <td>3 Days &amp; 2 Nights</td>\n",
       "      <td>Rishikesh (1D)Mussoorie (2D)</td>\n",
       "      <td>3 Star</td>\n",
       "    </tr>\n",
       "    <tr>\n",
       "      <th>1</th>\n",
       "      <td>Best Hong Kong Macau Tour Packages For An Impe...</td>\n",
       "      <td>43,157</td>\n",
       "      <td>39,999</td>\n",
       "      <td>7% Off</td>\n",
       "      <td>7 Days &amp; 6 Nights</td>\n",
       "      <td>Hong Kong (4D)Macau (3D)</td>\n",
       "      <td>3 Star</td>\n",
       "    </tr>\n",
       "    <tr>\n",
       "      <th>2</th>\n",
       "      <td>Coorg Package For 2 Nights And 3 Days</td>\n",
       "      <td>17,802</td>\n",
       "      <td>16,200</td>\n",
       "      <td>9% Off</td>\n",
       "      <td>3 Days &amp; 2 Nights</td>\n",
       "      <td>Coorg (3D)</td>\n",
       "      <td>3 Star2 Star4 Star</td>\n",
       "    </tr>\n",
       "    <tr>\n",
       "      <th>3</th>\n",
       "      <td>Refreshing Maldives Family Tour Packages From ...</td>\n",
       "      <td>80,000</td>\n",
       "      <td>35,000</td>\n",
       "      <td>56% Off</td>\n",
       "      <td>5 Days &amp; 4 Nights</td>\n",
       "      <td>Maldives (5D)</td>\n",
       "      <td>3 Star4 Star5 Star</td>\n",
       "    </tr>\n",
       "    <tr>\n",
       "      <th>4</th>\n",
       "      <td>Best 4N 5D Andaman Sightseeing Tour Package Fo...</td>\n",
       "      <td>36,484</td>\n",
       "      <td>33,200</td>\n",
       "      <td>9% Off</td>\n",
       "      <td>5 Days &amp; 4 Nights</td>\n",
       "      <td>Port Blair (4D)Havelock (1D)</td>\n",
       "      <td>3 Star</td>\n",
       "    </tr>\n",
       "    <tr>\n",
       "      <th>...</th>\n",
       "      <td>...</td>\n",
       "      <td>...</td>\n",
       "      <td>...</td>\n",
       "      <td>...</td>\n",
       "      <td>...</td>\n",
       "      <td>...</td>\n",
       "      <td>...</td>\n",
       "    </tr>\n",
       "    <tr>\n",
       "      <th>467</th>\n",
       "      <td>Adventurous Assam Tour Package</td>\n",
       "      <td>15,730</td>\n",
       "      <td>14,000</td>\n",
       "      <td>9% Off</td>\n",
       "      <td>3 Days &amp; 2 Nights</td>\n",
       "      <td>Kaziranga National Park (3D)</td>\n",
       "      <td>3 Star</td>\n",
       "    </tr>\n",
       "    <tr>\n",
       "      <th>468</th>\n",
       "      <td>New Zealand Queenstown, Rotorua &amp; Franz Josef ...</td>\n",
       "      <td>150,081</td>\n",
       "      <td>142,000</td>\n",
       "      <td>11% Off</td>\n",
       "      <td>13 Days &amp; 12 Nights</td>\n",
       "      <td>Auckland (2D)Paihia (2D)Rotorua (1D)Queenstown...</td>\n",
       "      <td>3 Star4 Star5 Star</td>\n",
       "    </tr>\n",
       "    <tr>\n",
       "      <th>469</th>\n",
       "      <td>Ecstatic Cambodia Vietnam Family Holiday Package</td>\n",
       "      <td>61,111</td>\n",
       "      <td>55,000</td>\n",
       "      <td>5% Off</td>\n",
       "      <td>11 Days &amp; 10 Nights</td>\n",
       "      <td>Hanoi (3D)Ho Chi Minh City (3D)Siem Reap (2D)P...</td>\n",
       "      <td>3 Star4 Star5 Star</td>\n",
       "    </tr>\n",
       "    <tr>\n",
       "      <th>470</th>\n",
       "      <td>Gleeful Rann Of Kutch Tour Package</td>\n",
       "      <td>22,087</td>\n",
       "      <td>20,099</td>\n",
       "      <td>10% Off</td>\n",
       "      <td>5 Days &amp; 4 Nights</td>\n",
       "      <td>Bhuj (2D)Kutch (3D)</td>\n",
       "      <td>3 Star</td>\n",
       "    </tr>\n",
       "    <tr>\n",
       "      <th>471</th>\n",
       "      <td>NaN</td>\n",
       "      <td>NaN</td>\n",
       "      <td>NaN</td>\n",
       "      <td>9% Off</td>\n",
       "      <td>NaN</td>\n",
       "      <td>NaN</td>\n",
       "      <td>NaN</td>\n",
       "    </tr>\n",
       "  </tbody>\n",
       "</table>\n",
       "<p>472 rows × 7 columns</p>\n",
       "</div>"
      ],
      "text/plain": [
       "                                                  city actual_price  \\\n",
       "0    Bestselling Rishikesh Mussoorie Tour Package F...       12,545   \n",
       "1    Best Hong Kong Macau Tour Packages For An Impe...       43,157   \n",
       "2                Coorg Package For 2 Nights And 3 Days       17,802   \n",
       "3    Refreshing Maldives Family Tour Packages From ...       80,000   \n",
       "4    Best 4N 5D Andaman Sightseeing Tour Package Fo...       36,484   \n",
       "..                                                 ...          ...   \n",
       "467                     Adventurous Assam Tour Package       15,730   \n",
       "468  New Zealand Queenstown, Rotorua & Franz Josef ...      150,081   \n",
       "469   Ecstatic Cambodia Vietnam Family Holiday Package       61,111   \n",
       "470                 Gleeful Rann Of Kutch Tour Package       22,087   \n",
       "471                                                NaN          NaN   \n",
       "\n",
       "    trip_price discount             duration  \\\n",
       "0       11,549   8% Off    3 Days & 2 Nights   \n",
       "1       39,999   7% Off    7 Days & 6 Nights   \n",
       "2       16,200   9% Off    3 Days & 2 Nights   \n",
       "3       35,000  56% Off    5 Days & 4 Nights   \n",
       "4       33,200   9% Off    5 Days & 4 Nights   \n",
       "..         ...      ...                  ...   \n",
       "467     14,000   9% Off    3 Days & 2 Nights   \n",
       "468    142,000  11% Off  13 Days & 12 Nights   \n",
       "469     55,000   5% Off  11 Days & 10 Nights   \n",
       "470     20,099  10% Off    5 Days & 4 Nights   \n",
       "471        NaN   9% Off                  NaN   \n",
       "\n",
       "                                       visiting_places       hotel_ratings  \n",
       "0                         Rishikesh (1D)Mussoorie (2D)              3 Star  \n",
       "1                             Hong Kong (4D)Macau (3D)              3 Star  \n",
       "2                                           Coorg (3D)  3 Star2 Star4 Star  \n",
       "3                                        Maldives (5D)  3 Star4 Star5 Star  \n",
       "4                         Port Blair (4D)Havelock (1D)              3 Star  \n",
       "..                                                 ...                 ...  \n",
       "467                       Kaziranga National Park (3D)              3 Star  \n",
       "468  Auckland (2D)Paihia (2D)Rotorua (1D)Queenstown...  3 Star4 Star5 Star  \n",
       "469  Hanoi (3D)Ho Chi Minh City (3D)Siem Reap (2D)P...  3 Star4 Star5 Star  \n",
       "470                                Bhuj (2D)Kutch (3D)              3 Star  \n",
       "471                                                NaN                 NaN  \n",
       "\n",
       "[472 rows x 7 columns]"
      ]
     },
     "execution_count": 106,
     "metadata": {},
     "output_type": "execute_result"
    }
   ],
   "source": [
    "data"
   ]
  },
  {
   "cell_type": "code",
   "execution_count": 108,
   "id": "42129d02-195a-4b9c-bc30-d7ad4ab1f36d",
   "metadata": {},
   "outputs": [],
   "source": [
    "data.to_csv(r\"C:\\Users\\lenovo\\OneDrive\\Desktop\\travel_guide.csv\",index=False)"
   ]
  },
  {
   "cell_type": "code",
   "execution_count": null,
   "id": "a6791f58-674b-4713-b7e9-d02a65e3ea10",
   "metadata": {},
   "outputs": [],
   "source": []
  },
  {
   "cell_type": "code",
   "execution_count": null,
   "id": "6a8ffde5-a053-411a-83d6-36bfe9825aa7",
   "metadata": {},
   "outputs": [],
   "source": []
  }
 ],
 "metadata": {
  "kernelspec": {
   "display_name": "Python 3 (ipykernel)",
   "language": "python",
   "name": "python3"
  },
  "language_info": {
   "codemirror_mode": {
    "name": "ipython",
    "version": 3
   },
   "file_extension": ".py",
   "mimetype": "text/x-python",
   "name": "python",
   "nbconvert_exporter": "python",
   "pygments_lexer": "ipython3",
   "version": "3.12.4"
  }
 },
 "nbformat": 4,
 "nbformat_minor": 5
}
